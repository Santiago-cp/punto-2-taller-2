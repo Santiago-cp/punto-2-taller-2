{
 "cells": [
  {
   "cell_type": "code",
   "execution_count": 1,
   "id": "3c4750a9",
   "metadata": {},
   "outputs": [],
   "source": [
    "import requests\n",
    "import json"
   ]
  },
  {
   "cell_type": "code",
   "execution_count": 2,
   "id": "ddb967b1-e9e0-4c28-b273-7b606cdf9214",
   "metadata": {},
   "outputs": [
    {
     "name": "stdout",
     "output_type": "stream",
     "text": [
      "200\n",
      "{'Email': 'andres@yahoo.com', 'prediction': 634.4336281272613}\n"
     ]
    }
   ],
   "source": [
    "# URL de la API\n",
    "url = 'http://127.0.0.1:8000/predict'\n",
    "\n",
    "# Datos de ejemplo (los reales los proporcionarás al momento de uso)\n",
    "data = {\n",
    "    \"Email\":\"andres@yahoo.com\",\n",
    "    \"Address\":\"Munich\",\n",
    "    \"dominio\":\"yahoo\",\n",
    "    \"Tec\":\"PC\",\n",
    "    \"Avg_Session_Length\":33.946241,\n",
    "    \"Time_on_App\":10.983977,\n",
    "    \"Time_on_Website\":37.951489,\n",
    "    \"Length_of_Membership\":3.050713,\n",
    "}\n",
    "\n",
    "# Hacer la solicitud POST\n",
    "headers = {\"Content-Type\": \"application/json\"}\n",
    "response = requests.post(url, data=json.dumps(data), headers=headers)\n",
    "\n",
    "# Verificar el código de estado y la respuesta\n",
    "print(response.status_code)\n",
    "if response.status_code == 200:\n",
    "    print(response.json())\n",
    "else:\n",
    "    print(\"Error en la solicitud:\", response.text)"
   ]
  }
 ],
 "metadata": {
  "kernelspec": {
   "display_name": "Python 3 (ipykernel)",
   "language": "python",
   "name": "python3"
  },
  "language_info": {
   "codemirror_mode": {
    "name": "ipython",
    "version": 3
   },
   "file_extension": ".py",
   "mimetype": "text/x-python",
   "name": "python",
   "nbconvert_exporter": "python",
   "pygments_lexer": "ipython3",
   "version": "3.10.11"
  }
 },
 "nbformat": 4,
 "nbformat_minor": 5
}
